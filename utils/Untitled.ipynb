{
 "cells": [
  {
   "cell_type": "code",
   "execution_count": 42,
   "id": "44a680a7-b7a9-422d-bbee-f35d08ec3f0d",
   "metadata": {},
   "outputs": [],
   "source": [
    "import torch"
   ]
  },
  {
   "cell_type": "code",
   "execution_count": 1,
   "id": "dbae9abf-5427-465a-b6d0-3e9aea5dfa4c",
   "metadata": {},
   "outputs": [],
   "source": [
    "from abnumber import Chain"
   ]
  },
  {
   "cell_type": "code",
   "execution_count": 34,
   "id": "a9a972ab-552a-444e-a635-2e79eed79f61",
   "metadata": {},
   "outputs": [],
   "source": [
    "s = \"EVQLQQSGAELARPGASVKMSCKASGYTFTRYTMHWVKQRPGQGLEWIGYINPSRGYTNYNQKFKDKATLTTDKSSSTAYMQLSSLTSEDSAVYYCARYYSEDDERGHYCLDYWGQGTTLTVSSAKTTAPSVYPLA\""
   ]
  },
  {
   "cell_type": "code",
   "execution_count": 35,
   "id": "49a9108d-9d12-496a-8a77-c25c057232fc",
   "metadata": {},
   "outputs": [],
   "source": [
    "a = Chain(s, scheme=\"chothia\")"
   ]
  },
  {
   "cell_type": "code",
   "execution_count": 29,
   "id": "70e2617f-2e48-47b3-b4bd-4c9c432d77c0",
   "metadata": {},
   "outputs": [
    {
     "data": {
      "text/plain": [
       "26"
      ]
     },
     "execution_count": 29,
     "metadata": {},
     "output_type": "execute_result"
    }
   ],
   "source": [
    "list(a.regions[\"CDR1\"].items())[0][0].number"
   ]
  },
  {
   "cell_type": "code",
   "execution_count": 41,
   "id": "377bd0fd-c2f2-40bc-a74a-bcec1c4b2870",
   "metadata": {},
   "outputs": [
    {
     "name": "stdout",
     "output_type": "stream",
     "text": [
      "EVQLQQSGAELARPGASVKMSCKASGYTFTRYTMHWVKQRPGQGLEWIGYINPSRGYTNYNQKFKDKATLTTDKSSSTAYMQLSSLTSEDSAVYYCARYYSEDDERGHYCLDYWGQGTTLTVSSAKTTAPSVYPLA\n",
      "0000000000000000000000000111111100000000000000000001111110000000000000000000000000000000000000000011111111111111100000000000\n"
     ]
    },
    {
     "data": {
      "text/plain": [
       "EVQLQQSGAELARPGASVKMSCKASGYTFTRYTMHWVKQRPGQGLEWIGYINPSRGYTNYNQKFKDKATLTTDKSSSTAYMQLSSLTSEDSAVYYCARYYSEDDERGHYCLDYWGQGTTLTVSS\n",
       "                         ^^^^^^^                   ^^^^^^                                         ^^^^^^^^^^^^^^^           "
      ]
     },
     "execution_count": 41,
     "metadata": {},
     "output_type": "execute_result"
    }
   ],
   "source": [
    "print(s)\n",
    "mask = list()\n",
    "for reg, positions in a.regions.items():\n",
    "    for pos, amino in positions.items():\n",
    "        mask.append(int(pos.is_in_cdr()))\n",
    "print(*mask, sep=\"\")\n",
    "a"
   ]
  },
  {
   "cell_type": "code",
   "execution_count": 77,
   "id": "f0beffa3-806b-4a26-87a7-26d266e8a739",
   "metadata": {},
   "outputs": [],
   "source": [
    "mask = list()\n",
    "a = Chain(s, scheme=\"chothia\")\n",
    "for pos in a.positions:\n",
    "    mask.append(torch.full((5,), fill_value=int(pos.is_in_cdr())))\n",
    "mask = torch.stack(mask)"
   ]
  },
  {
   "cell_type": "code",
   "execution_count": 78,
   "id": "a596a23d-11de-4420-977a-82970a2ca08d",
   "metadata": {},
   "outputs": [
    {
     "name": "stdout",
     "output_type": "stream",
     "text": [
      "0000000000000000000000000111111100000000000000000001111110000000000000000000000000000000000000000011111111111111100000000000\n"
     ]
    },
    {
     "data": {
      "text/plain": [
       "EVQLQQSGAELARPGASVKMSCKASGYTFTRYTMHWVKQRPGQGLEWIGYINPSRGYTNYNQKFKDKATLTTDKSSSTAYMQLSSLTSEDSAVYYCARYYSEDDERGHYCLDYWGQGTTLTVSS\n",
       "                         ^^^^^^^                   ^^^^^^                                         ^^^^^^^^^^^^^^^           "
      ]
     },
     "execution_count": 78,
     "metadata": {},
     "output_type": "execute_result"
    }
   ],
   "source": [
    "print(*mask.float().mean(-1).long().tolist(), sep=\"\")\n",
    "a"
   ]
  },
  {
   "cell_type": "code",
   "execution_count": 80,
   "id": "96da98c4-7718-482c-9757-b96a5d6a3658",
   "metadata": {},
   "outputs": [
    {
     "name": "stdout",
     "output_type": "stream",
     "text": [
      "EVQLQQSGAELARPGASVKMSCKASGYTFTRYTMHWVKQRPGQGLEWIGYINPSRGYTNYNQKFKDKATLTTDKSSSTAYMQLSSLTSEDSAVYYCARYYSEDDERGHYCLDYWGQGTTLTVSS\n"
     ]
    },
    {
     "data": {
      "text/plain": [
       "EVQLQQSGAELARPGASVKMSCKASGYTFTRYTMHWVKQRPGQGLEWIGYINPSRGYTNYNQKFKDKATLTTDKSSSTAYMQLSSLTSEDSAVYYCARYYSEDDERGHYCLDYWGQGTTLTVSS\n",
       "                         ^^^^^^^                   ^^^^^^                                         ^^^^^^^^^^^^^^^           "
      ]
     },
     "execution_count": 80,
     "metadata": {},
     "output_type": "execute_result"
    }
   ],
   "source": [
    "print(a.seq)\n",
    "a"
   ]
  },
  {
   "cell_type": "code",
   "execution_count": 43,
   "id": "54c2bf50-b463-400d-b9b7-adee3073b41d",
   "metadata": {},
   "outputs": [],
   "source": [
    "mask = torch.tensor(mask)"
   ]
  },
  {
   "cell_type": "code",
   "execution_count": 44,
   "id": "8e7b968c-1ba6-4438-917e-00a3bbe04fb0",
   "metadata": {},
   "outputs": [
    {
     "data": {
      "text/plain": [
       "tensor([0, 0, 0, 0, 0, 0, 0, 0, 0, 0, 0, 0, 0, 0, 0, 0, 0, 0, 0, 0, 0, 0, 0, 0,\n",
       "        0, 1, 1, 1, 1, 1, 1, 1, 0, 0, 0, 0, 0, 0, 0, 0, 0, 0, 0, 0, 0, 0, 0, 0,\n",
       "        0, 0, 0, 1, 1, 1, 1, 1, 1, 0, 0, 0, 0, 0, 0, 0, 0, 0, 0, 0, 0, 0, 0, 0,\n",
       "        0, 0, 0, 0, 0, 0, 0, 0, 0, 0, 0, 0, 0, 0, 0, 0, 0, 0, 0, 0, 0, 0, 0, 0,\n",
       "        0, 0, 1, 1, 1, 1, 1, 1, 1, 1, 1, 1, 1, 1, 1, 1, 1, 0, 0, 0, 0, 0, 0, 0,\n",
       "        0, 0, 0, 0])"
      ]
     },
     "execution_count": 44,
     "metadata": {},
     "output_type": "execute_result"
    }
   ],
   "source": [
    "mask"
   ]
  },
  {
   "cell_type": "code",
   "execution_count": null,
   "id": "64e2fd47-e240-4859-8058-9f18c70b1073",
   "metadata": {},
   "outputs": [],
   "source": []
  }
 ],
 "metadata": {
  "kernelspec": {
   "display_name": "Python 3 (ipykernel)",
   "language": "python",
   "name": "python3"
  },
  "language_info": {
   "codemirror_mode": {
    "name": "ipython",
    "version": 3
   },
   "file_extension": ".py",
   "mimetype": "text/x-python",
   "name": "python",
   "nbconvert_exporter": "python",
   "pygments_lexer": "ipython3",
   "version": "3.12.2"
  }
 },
 "nbformat": 4,
 "nbformat_minor": 5
}
