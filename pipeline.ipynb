{
 "cells": [
  {
   "cell_type": "code",
   "execution_count": 1,
   "id": "4f242c7d-14ce-4831-83c3-761491b0decb",
   "metadata": {},
   "outputs": [
    {
     "name": "stderr",
     "output_type": "stream",
     "text": [
      "/home/ubuntu/miniconda3/lib/python3.12/site-packages/Bio/pairwise2.py:278: BiopythonDeprecationWarning: Bio.pairwise2 has been deprecated, and we intend to remove it in a future release of Biopython. As an alternative, please consider using Bio.Align.PairwiseAligner as a replacement, and contact the Biopython developers if you still need the Bio.pairwise2 module.\n",
      "  warnings.warn(\n"
     ]
    }
   ],
   "source": [
    "from utils.general import FVbinder, CustomIgFold\n",
    "from optimizers.gradient import GradientOptimizer"
   ]
  },
  {
   "cell_type": "code",
   "execution_count": 2,
   "id": "aaec3b25-4f8c-4749-ab5a-cd5ee16116c2",
   "metadata": {},
   "outputs": [
    {
     "name": "stdout",
     "output_type": "stream",
     "text": [
      "Loading /home/ubuntu/miniconda3/lib/python3.12/site-packages/igfold/trained_models/IgFold/igfold_3.ckpt...\n",
      "Loading /home/ubuntu/miniconda3/lib/python3.12/site-packages/igfold/trained_models/IgFold/igfold_5.ckpt...\n",
      "Loading /home/ubuntu/miniconda3/lib/python3.12/site-packages/igfold/trained_models/IgFold/igfold_2.ckpt...\n",
      "Loading /home/ubuntu/miniconda3/lib/python3.12/site-packages/igfold/trained_models/IgFold/igfold_1.ckpt...\n"
     ]
    }
   ],
   "source": [
    "CIF = CustomIgFold()"
   ]
  },
  {
   "cell_type": "code",
   "execution_count": 3,
   "id": "0eee3362-d995-44af-820b-6ded3a4c6369",
   "metadata": {},
   "outputs": [],
   "source": [
    "light_sequence = \"DIVLTQSPASQSASLGESVTITCLASQTIGTWLAWYQQKPGKSPQLLIYAATSLADGVPSRFSGSGSGTKFSFKISSLQAEDFVSYYCQQLYSTPYTFGGGTKLEIKR\" #@param {type:\"string\"}\n",
    "heavy_sequence = \"EVKLQESGPSLVKPSQSLSLTCSVTGYSITSGYSWNWIRQFPGNKLEWMGYVNNDGLNNYNPSLKNRISITRDTSQNQFFLRFDSLTTEDTATYFCTLYGYDGAWFTYWGQGTLVTVSA\" #@param {type:\"string\"}"
   ]
  },
  {
   "cell_type": "code",
   "execution_count": 4,
   "id": "af801ad5-3e1e-46d0-abcf-7603aa29d4a5",
   "metadata": {},
   "outputs": [
    {
     "name": "stderr",
     "output_type": "stream",
     "text": [
      "BertSdpaSelfAttention is used but `torch.nn.functional.scaled_dot_product_attention` does not support non-absolute `position_embedding_type` or `output_attentions=True` or `head_mask`. Falling back to the manual attention implementation, but specifying the manual implementation will be required from Transformers version v5.0.0 onwards. This warning can be removed using the argument `attn_implementation=\"eager\"` when loading the model.\n",
      "/home/ubuntu/miniconda3/lib/python3.12/site-packages/igfold/utils/coordinates.py:18: UserWarning: Using torch.cross without specifying the dim arg is deprecated.\n",
      "Please either pass the dim explicitly or simply use torch.linalg.cross.\n",
      "The default value of dim will change to agree with that of linalg.cross in a future release. (Triggered internally at ../aten/src/ATen/native/Cross.cpp:62.)\n",
      "  n_vec = (b_coord - a_coord).expand(bc_vec.shape).cross(bc_vec)\n"
     ]
    }
   ],
   "source": [
    "b = FVbinder(vh=heavy_sequence, vl=light_sequence)\n",
    "CIF.fold(b)"
   ]
  },
  {
   "cell_type": "code",
   "execution_count": 5,
   "id": "b0ea698d-8159-4bd8-b4fa-fdccace1cd2f",
   "metadata": {},
   "outputs": [],
   "source": [
    "optimizer = GradientOptimizer(start=b, target=b, verbose=True, tensorboard=True)"
   ]
  },
  {
   "cell_type": "code",
   "execution_count": 8,
   "id": "0d189302-5cee-468c-86ed-c1352e3eea24",
   "metadata": {
    "scrolled": true
   },
   "outputs": [
    {
     "data": {
      "application/vnd.jupyter.widget-view+json": {
       "model_id": "24f004ac2c9a441db8b0467159c48817",
       "version_major": 2,
       "version_minor": 0
      },
      "text/plain": [
       "  0%|          | 0/20 [00:00<?, ?it/s]"
      ]
     },
     "metadata": {},
     "output_type": "display_data"
    },
    {
     "name": "stdout",
     "output_type": "stream",
     "text": [
      "RMSD Loss: 0.0200953371822834\n",
      "Species Loss: 11.580408096313477\n",
      "Log-likelyhood Loss: 14.628969192504883\n",
      "Full Loss: 4.524590492248535\n",
      "\n",
      "---\n",
      "RMSD Loss: 0.0200957078486681\n",
      "Species Loss: 11.58059024810791\n",
      "Log-likelyhood Loss: 14.628854751586914\n",
      "Full Loss: 4.524558067321777\n",
      "\n",
      "---\n",
      "RMSD Loss: 0.020096149295568466\n",
      "Species Loss: 11.581067085266113\n",
      "Log-likelyhood Loss: 14.628718376159668\n",
      "Full Loss: 4.524522304534912\n",
      "\n",
      "---\n",
      "RMSD Loss: 0.020096605643630028\n",
      "Species Loss: 11.581790924072266\n",
      "Log-likelyhood Loss: 14.628557205200195\n",
      "Full Loss: 4.524481773376465\n",
      "\n",
      "---\n",
      "RMSD Loss: 0.02009708434343338\n",
      "Species Loss: 11.582696914672852\n",
      "Log-likelyhood Loss: 14.628388404846191\n",
      "Full Loss: 4.524440765380859\n",
      "\n",
      "---\n",
      "RMSD Loss: 0.020097579807043076\n",
      "Species Loss: 11.583715438842773\n",
      "Log-likelyhood Loss: 14.62822437286377\n",
      "Full Loss: 4.524402141571045\n",
      "\n",
      "---\n",
      "RMSD Loss: 0.02009805291891098\n",
      "Species Loss: 11.584783554077148\n",
      "Log-likelyhood Loss: 14.628070831298828\n",
      "Full Loss: 4.524367332458496\n",
      "\n",
      "---\n",
      "RMSD Loss: 0.020098550245165825\n",
      "Species Loss: 11.585838317871094\n",
      "Log-likelyhood Loss: 14.62793254852295\n",
      "Full Loss: 4.524336814880371\n",
      "\n",
      "---\n",
      "RMSD Loss: 0.02009901963174343\n",
      "Species Loss: 11.586837768554688\n",
      "Log-likelyhood Loss: 14.627809524536133\n",
      "Full Loss: 4.524310111999512\n",
      "\n",
      "---\n",
      "RMSD Loss: 0.02009945549070835\n",
      "Species Loss: 11.587747573852539\n",
      "Log-likelyhood Loss: 14.627704620361328\n",
      "Full Loss: 4.524288177490234\n",
      "\n",
      "---\n",
      "RMSD Loss: 0.02009984850883484\n",
      "Species Loss: 11.588542938232422\n",
      "Log-likelyhood Loss: 14.627609252929688\n",
      "Full Loss: 4.52426815032959\n",
      "\n",
      "---\n",
      "RMSD Loss: 0.020100174471735954\n",
      "Species Loss: 11.589218139648438\n",
      "Log-likelyhood Loss: 14.627521514892578\n",
      "Full Loss: 4.524249076843262\n",
      "\n",
      "---\n",
      "RMSD Loss: 0.02010044828057289\n",
      "Species Loss: 11.589759826660156\n",
      "Log-likelyhood Loss: 14.627443313598633\n",
      "Full Loss: 4.524231433868408\n",
      "\n",
      "---\n",
      "RMSD Loss: 0.02010069414973259\n",
      "Species Loss: 11.59017562866211\n",
      "Log-likelyhood Loss: 14.627367973327637\n",
      "Full Loss: 4.5242133140563965\n",
      "\n",
      "---\n",
      "RMSD Loss: 0.020100872963666916\n",
      "Species Loss: 11.590469360351562\n",
      "Log-likelyhood Loss: 14.627294540405273\n",
      "Full Loss: 4.52419376373291\n",
      "\n",
      "---\n",
      "RMSD Loss: 0.020101038739085197\n",
      "Species Loss: 11.590644836425781\n",
      "Log-likelyhood Loss: 14.62722110748291\n",
      "Full Loss: 4.524173736572266\n",
      "\n",
      "---\n",
      "RMSD Loss: 0.020101144909858704\n",
      "Species Loss: 11.590715408325195\n",
      "Log-likelyhood Loss: 14.627153396606445\n",
      "Full Loss: 4.5241546630859375\n",
      "\n",
      "---\n",
      "RMSD Loss: 0.02010127156972885\n",
      "Species Loss: 11.590686798095703\n",
      "Log-likelyhood Loss: 14.627084732055664\n",
      "Full Loss: 4.524133682250977\n",
      "\n",
      "---\n",
      "RMSD Loss: 0.020101333037018776\n",
      "Species Loss: 11.590576171875\n",
      "Log-likelyhood Loss: 14.62702465057373\n",
      "Full Loss: 4.524115085601807\n",
      "\n",
      "---\n",
      "RMSD Loss: 0.02010137401521206\n",
      "Species Loss: 11.590398788452148\n",
      "Log-likelyhood Loss: 14.626967430114746\n",
      "Full Loss: 4.5240960121154785\n",
      "\n",
      "---\n"
     ]
    }
   ],
   "source": [
    "optimizer.step(20)"
   ]
  },
  {
   "cell_type": "code",
   "execution_count": 7,
   "id": "d9a07ec4-160c-427f-9ad1-1e9437b04d84",
   "metadata": {},
   "outputs": [
    {
     "name": "stdout",
     "output_type": "stream",
     "text": [
      "FVbinder(\n",
      "vh='DVHLQESGPSLVKPSHSLSLTCSVTGYSITSGYHWNWIRQFPGNKLEWMGYINNDGLNNYNPSLKNRISITRDTSKNQFFLRFHSLTTEDTATYFCTLYGYDGAWFTYWGQGTLVTVSA',\n",
      "vl='DIHMTQSPASQSASLGESVTITCLASQTIGTWLAWYHQKPGKSPNLLIYAATSLADGVPSRFSGSGSGTKFSFNISSLQAEDFVSYYCQQLYSTPYTFGGGTKLEIKM'\n",
      ")\n"
     ]
    }
   ],
   "source": [
    "print(optimizer.best_valid_binder)"
   ]
  },
  {
   "cell_type": "code",
   "execution_count": null,
   "id": "437673a1-743e-4f56-bd47-42eb40470893",
   "metadata": {},
   "outputs": [],
   "source": []
  }
 ],
 "metadata": {
  "kernelspec": {
   "display_name": "Python 3 (ipykernel)",
   "language": "python",
   "name": "python3"
  },
  "language_info": {
   "codemirror_mode": {
    "name": "ipython",
    "version": 3
   },
   "file_extension": ".py",
   "mimetype": "text/x-python",
   "name": "python",
   "nbconvert_exporter": "python",
   "pygments_lexer": "ipython3",
   "version": "3.12.2"
  }
 },
 "nbformat": 4,
 "nbformat_minor": 5
}
