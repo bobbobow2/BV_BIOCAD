{
 "cells": [
  {
   "cell_type": "code",
   "execution_count": 1,
   "id": "4f242c7d-14ce-4831-83c3-761491b0decb",
   "metadata": {},
   "outputs": [
    {
     "name": "stderr",
     "output_type": "stream",
     "text": [
      "/home/ubuntu/miniconda3/lib/python3.12/site-packages/Bio/pairwise2.py:278: BiopythonDeprecationWarning: Bio.pairwise2 has been deprecated, and we intend to remove it in a future release of Biopython. As an alternative, please consider using Bio.Align.PairwiseAligner as a replacement, and contact the Biopython developers if you still need the Bio.pairwise2 module.\n",
      "  warnings.warn(\n"
     ]
    }
   ],
   "source": [
    "from optimizers.gradient import GradientOptimizer\n",
    "from utils.general import CustomIgFold, FVbinder"
   ]
  },
  {
   "cell_type": "code",
   "execution_count": 2,
   "id": "aaec3b25-4f8c-4749-ab5a-cd5ee16116c2",
   "metadata": {},
   "outputs": [
    {
     "name": "stdout",
     "output_type": "stream",
     "text": [
      "Loading /home/ubuntu/miniconda3/lib/python3.12/site-packages/igfold/trained_models/IgFold/igfold_3.ckpt...\n",
      "Loading /home/ubuntu/miniconda3/lib/python3.12/site-packages/igfold/trained_models/IgFold/igfold_5.ckpt...\n",
      "Loading /home/ubuntu/miniconda3/lib/python3.12/site-packages/igfold/trained_models/IgFold/igfold_2.ckpt...\n",
      "Loading /home/ubuntu/miniconda3/lib/python3.12/site-packages/igfold/trained_models/IgFold/igfold_1.ckpt...\n"
     ]
    }
   ],
   "source": [
    "CIF = CustomIgFold()"
   ]
  },
  {
   "cell_type": "code",
   "execution_count": 3,
   "id": "af801ad5-3e1e-46d0-abcf-7603aa29d4a5",
   "metadata": {},
   "outputs": [
    {
     "name": "stderr",
     "output_type": "stream",
     "text": [
      "BertSdpaSelfAttention is used but `torch.nn.functional.scaled_dot_product_attention` does not support non-absolute `position_embedding_type` or `output_attentions=True` or `head_mask`. Falling back to the manual attention implementation, but specifying the manual implementation will be required from Transformers version v5.0.0 onwards. This warning can be removed using the argument `attn_implementation=\"eager\"` when loading the model.\n",
      "/home/ubuntu/miniconda3/lib/python3.12/site-packages/igfold/utils/coordinates.py:18: UserWarning: Using torch.cross without specifying the dim arg is deprecated.\n",
      "Please either pass the dim explicitly or simply use torch.linalg.cross.\n",
      "The default value of dim will change to agree with that of linalg.cross in a future release. (Triggered internally at ../aten/src/ATen/native/Cross.cpp:62.)\n",
      "  n_vec = (b_coord - a_coord).expand(bc_vec.shape).cross(bc_vec)\n"
     ]
    }
   ],
   "source": [
    "light_sequence = \"DIVLTQSPASQSASLGESVTITCLASQTIGTWLAWYQQKPGKSPQLLIYAATSLADGVPSRFSGSGSGTKFSFKISSLQAEDFVSYYCQQLYSTPYTFGGGTKLEIKR\" #@param {type:\"string\"}\n",
    "heavy_sequence = \"EVKLQESGPSLVKPSQSLSLTCSVTGYSITSGYSWNWIRQFPGNKLEWMGYVNNDGLNNYNPSLKNRISITRDTSQNQFFLRFDSLTTEDTATYFCTLYGYDGAWFTYWGQGTLVTVSA\" #@param {type:\"string\"}\n",
    "target = FVbinder(vh=heavy_sequence, vl=light_sequence)\n",
    "CIF.fold(target)"
   ]
  },
  {
   "cell_type": "code",
   "execution_count": 4,
   "id": "61bb37dd",
   "metadata": {},
   "outputs": [],
   "source": [
    "humanized_vh = \"EVQLQESGPGLVKPSETLSLTCAVSGYSITSGYSWNWIRQPPGNKLEWMGYVNNDGLNNYNPSLKSRITITRDTSKNQFSLKFSSVTAADTAVYFCTLYGYDGAWFTYWGQGTLVTVSS\"\n",
    "humanized_vl = \"DIVLTQSPSSLSASVGDRVTITCLASQTIGTWLAWYQQKPGKSPQLLIYAATSLADGVPSRFSGSGSGTKFTLTISSLQPEDFATYYCQQLYSTPYTFGGGTKVEIKR\"\n",
    "humanized = FVbinder(vh=humanized_vh, vl=humanized_vl)"
   ]
  },
  {
   "cell_type": "code",
   "execution_count": 5,
   "id": "b0ea698d-8159-4bd8-b4fa-fdccace1cd2f",
   "metadata": {},
   "outputs": [],
   "source": [
    "optimizer = GradientOptimizer(lr=0.05, sub_infinity=10, start=target, target=target, verbose=True, tensorboard=True)"
   ]
  },
  {
   "cell_type": "code",
   "execution_count": 6,
   "id": "0d189302-5cee-468c-86ed-c1352e3eea24",
   "metadata": {
    "scrolled": true
   },
   "outputs": [
    {
     "data": {
      "application/vnd.jupyter.widget-view+json": {
       "model_id": "5c7515b8005d4596a933e959514bdaa4",
       "version_major": 2,
       "version_minor": 0
      },
      "text/plain": [
       "  0%|          | 0/500 [00:00<?, ?it/s]"
      ]
     },
     "metadata": {},
     "output_type": "display_data"
    },
    {
     "ename": "IndexError",
     "evalue": "tensors used as indices must be long, int, byte or bool tensors",
     "output_type": "error",
     "traceback": [
      "\u001b[0;31m---------------------------------------------------------------------------\u001b[0m",
      "\u001b[0;31mIndexError\u001b[0m                                Traceback (most recent call last)",
      "Cell \u001b[0;32mIn[6], line 1\u001b[0m\n\u001b[0;32m----> 1\u001b[0m \u001b[43moptimizer\u001b[49m\u001b[38;5;241;43m.\u001b[39;49m\u001b[43mstep\u001b[49m\u001b[43m(\u001b[49m\u001b[38;5;241;43m500\u001b[39;49m\u001b[43m)\u001b[49m\n",
      "File \u001b[0;32m~/nik9kin/BV_BIOCAD/optimizers/gradient.py:217\u001b[0m, in \u001b[0;36mGradientOptimizer.step\u001b[0;34m(self, steps)\u001b[0m\n\u001b[1;32m    209\u001b[0m coords, species, log_likelyhood \u001b[38;5;241m=\u001b[39m \u001b[38;5;28mself\u001b[39m\u001b[38;5;241m.\u001b[39mgenerator\u001b[38;5;241m.\u001b[39mforward()\n\u001b[1;32m    211\u001b[0m \u001b[38;5;66;03m# rmsd_loss = RMSD_loss_fn(\u001b[39;00m\n\u001b[1;32m    212\u001b[0m \u001b[38;5;66;03m#     target=self.target.coords,\u001b[39;00m\n\u001b[1;32m    213\u001b[0m \u001b[38;5;66;03m#     preds=coords,\u001b[39;00m\n\u001b[1;32m    214\u001b[0m \u001b[38;5;66;03m#     mask=torch.concat((self.target.vh_cdr_mask, self.target.vl_cdr_mask)),\u001b[39;00m\n\u001b[1;32m    215\u001b[0m \u001b[38;5;66;03m# )\u001b[39;00m\n\u001b[0;32m--> 217\u001b[0m rmsd_loss \u001b[38;5;241m=\u001b[39m \u001b[43minner_dist_matrices_mse\u001b[49m\u001b[43m(\u001b[49m\n\u001b[1;32m    218\u001b[0m \u001b[43m    \u001b[49m\u001b[43mcoords\u001b[49m\u001b[43m,\u001b[49m\n\u001b[1;32m    219\u001b[0m \u001b[43m    \u001b[49m\u001b[38;5;28;43mself\u001b[39;49m\u001b[38;5;241;43m.\u001b[39;49m\u001b[43mtarget\u001b[49m\u001b[38;5;241;43m.\u001b[39;49m\u001b[43mcoords\u001b[49m\u001b[43m,\u001b[49m\n\u001b[1;32m    220\u001b[0m \u001b[43m    \u001b[49m\u001b[43mtorch\u001b[49m\u001b[38;5;241;43m.\u001b[39;49m\u001b[43mconcat\u001b[49m\u001b[43m(\u001b[49m\u001b[43m(\u001b[49m\u001b[38;5;28;43mself\u001b[39;49m\u001b[38;5;241;43m.\u001b[39;49m\u001b[43mtarget\u001b[49m\u001b[38;5;241;43m.\u001b[39;49m\u001b[43mvh_cdr_mask\u001b[49m\u001b[43m,\u001b[49m\u001b[43m \u001b[49m\u001b[38;5;28;43mself\u001b[39;49m\u001b[38;5;241;43m.\u001b[39;49m\u001b[43mtarget\u001b[49m\u001b[38;5;241;43m.\u001b[39;49m\u001b[43mvl_cdr_mask\u001b[49m\u001b[43m)\u001b[49m\u001b[43m)\u001b[49m\n\u001b[1;32m    221\u001b[0m \u001b[43m\u001b[49m\u001b[43m)\u001b[49m\n\u001b[1;32m    223\u001b[0m species_loss \u001b[38;5;241m=\u001b[39m species_loss_fn(\n\u001b[1;32m    224\u001b[0m     species,\n\u001b[1;32m    225\u001b[0m     torch\u001b[38;5;241m.\u001b[39mfull(\n\u001b[1;32m    226\u001b[0m         size\u001b[38;5;241m=\u001b[39m(species\u001b[38;5;241m.\u001b[39msize(dim\u001b[38;5;241m=\u001b[39m\u001b[38;5;241m0\u001b[39m),), fill_value\u001b[38;5;241m=\u001b[39m\u001b[38;5;28mself\u001b[39m\u001b[38;5;241m.\u001b[39mtarget_class\n\u001b[1;32m    227\u001b[0m     )\u001b[38;5;241m.\u001b[39mto(device),\n\u001b[1;32m    228\u001b[0m )\n\u001b[1;32m    229\u001b[0m log_likelyhood_loss \u001b[38;5;241m=\u001b[39m \u001b[38;5;241m-\u001b[39mlog_likelyhood\n",
      "File \u001b[0;32m~/nik9kin/BV_BIOCAD/optimizers/losses.py:26\u001b[0m, in \u001b[0;36minner_dist_matrices_mse\u001b[0;34m(preds, target, mask, atom_types_mask)\u001b[0m\n\u001b[1;32m     21\u001b[0m \u001b[38;5;28;01mdef\u001b[39;00m \u001b[38;5;21minner_dist_matrices_mse\u001b[39m(\n\u001b[1;32m     22\u001b[0m         preds,\n\u001b[1;32m     23\u001b[0m         target,\n\u001b[1;32m     24\u001b[0m         mask,\n\u001b[1;32m     25\u001b[0m         atom_types_mask\u001b[38;5;241m=\u001b[39mtorch\u001b[38;5;241m.\u001b[39mtensor([\u001b[38;5;241m0\u001b[39m, \u001b[38;5;241m1\u001b[39m, \u001b[38;5;241m0\u001b[39m, \u001b[38;5;241m0\u001b[39m, \u001b[38;5;241m1\u001b[39m], dtype\u001b[38;5;241m=\u001b[39mtorch\u001b[38;5;241m.\u001b[39mbool)):\n\u001b[0;32m---> 26\u001b[0m     preds \u001b[38;5;241m=\u001b[39m \u001b[43mpreds\u001b[49m\u001b[43m[\u001b[49m\u001b[38;5;241;43m0\u001b[39;49m\u001b[43m,\u001b[49m\u001b[43m \u001b[49m\u001b[43mmask\u001b[49m\u001b[43m,\u001b[49m\u001b[43m \u001b[49m\u001b[43matom_types_mask\u001b[49m\u001b[43m,\u001b[49m\u001b[43m \u001b[49m\u001b[43m:\u001b[49m\u001b[43m]\u001b[49m\u001b[38;5;241m.\u001b[39mreshape((\u001b[38;5;241m-\u001b[39m\u001b[38;5;241m1\u001b[39m, \u001b[38;5;241m3\u001b[39m))\n\u001b[1;32m     27\u001b[0m     preds_dist_matrix \u001b[38;5;241m=\u001b[39m torch\u001b[38;5;241m.\u001b[39msqrt(\n\u001b[1;32m     28\u001b[0m         torch\u001b[38;5;241m.\u001b[39msum((preds\u001b[38;5;241m.\u001b[39munsqueeze(\u001b[38;5;241m1\u001b[39m) \u001b[38;5;241m-\u001b[39m preds) \u001b[38;5;241m*\u001b[39m\u001b[38;5;241m*\u001b[39m \u001b[38;5;241m2\u001b[39m, dim\u001b[38;5;241m=\u001b[39m\u001b[38;5;241m-\u001b[39m\u001b[38;5;241m1\u001b[39m)\n\u001b[1;32m     29\u001b[0m     )\n\u001b[1;32m     31\u001b[0m     target \u001b[38;5;241m=\u001b[39m target[\u001b[38;5;241m0\u001b[39m, mask, atom_types_mask, :]\u001b[38;5;241m.\u001b[39mreshape((\u001b[38;5;241m-\u001b[39m\u001b[38;5;241m1\u001b[39m, \u001b[38;5;241m3\u001b[39m))\n",
      "\u001b[0;31mIndexError\u001b[0m: tensors used as indices must be long, int, byte or bool tensors"
     ]
    }
   ],
   "source": [
    "optimizer.step(500)"
   ]
  },
  {
   "cell_type": "code",
   "execution_count": 16,
   "id": "20522b51",
   "metadata": {},
   "outputs": [
    {
     "data": {
      "text/plain": [
       "tensor([   -inf,    -inf,    -inf,    -inf,    -inf, -4.1281, -4.0444, 12.0845,\n",
       "         5.8196, -4.1159, -4.0830, -1.9722, -4.0156, -4.0865, -4.0878, -4.0759,\n",
       "        -4.1504, -4.0485, -4.0195, -4.0683, -4.1643, -4.0628, -4.0996, -4.0658,\n",
       "        -4.1590], device='cuda:0', grad_fn=<SelectBackward0>)"
      ]
     },
     "execution_count": 16,
     "metadata": {},
     "output_type": "execute_result"
    }
   ],
   "source": [
    "optimizer.generator.logits[0][1]"
   ]
  },
  {
   "cell_type": "code",
   "execution_count": 17,
   "id": "d9a07ec4-160c-427f-9ad1-1e9437b04d84",
   "metadata": {},
   "outputs": [
    {
     "name": "stdout",
     "output_type": "stream",
     "text": [
      "FVbinder(\n",
      "vh='DVQLQESGPSLVKPSHSLSLTCSVTGYSITSGYHWNWIRQFPGNKLEWMGYHNNDGLNNYNPSLKNRISITRDTSKNQFFLRFHSVTTEDTATYFCTHYGYDGAWFTYWGQGTLVTVSA',\n",
      "vl='DIHMTQSPASQSASLGERVTITCLASQTIGTWLAWYHQKPGKAPNLLIYAATSLADGVPSRFSGSGSGTNFSFNISSLQAEDFVSYYCQQLYSTPYTFGNGTKLEIK'\n",
      ")\n"
     ]
    }
   ],
   "source": [
    "print(optimizer.best_valid_binder)"
   ]
  },
  {
   "cell_type": "code",
   "execution_count": 20,
   "id": "d1c17560",
   "metadata": {},
   "outputs": [
    {
     "data": {
      "text/plain": [
       "EVKLQESGPSLVKPSQSLSLTCSVTGYSITSGYSWNWIRQFPGNKLEWMGYVNNDGLNNYNPSLKNRISITRDTSQNQFFLRFDSLTTEDTATYFCTLYGYDGAWFTYWGQGTLVTVSA\n",
       "+|+||||||||||||.|||||||||||||||||.|||||||||||||||||.|||||||||||||||||||||||+|||||||.|+|||||||||||.|||||||||||||||||||||\n",
       "DVQLQESGPSLVKPSHSLSLTCSVTGYSITSGYHWNWIRQFPGNKLEWMGYHNNDGLNNYNPSLKNRISITRDTSKNQFFLRFHSVTTEDTATYFCTHYGYDGAWFTYWGQGTLVTVSA\n",
       "+||||||||.|||||.+|||||+|+||||||||.||||||.||||||||||.|||||||||||||+||+||||||||||.|+|.|||..|||.||||.||||||||||||||||||||+\n",
       "EVQLQESGPGLVKPSETLSLTCAVSGYSITSGYSWNWIRQPPGNKLEWMGYVNNDGLNNYNPSLKSRITITRDTSKNQFSLKFSSVTAADTAVYFCTLYGYDGAWFTYWGQGTLVTVSS\n",
       "                         ^^^^^^^^                   ^^^^^                                         ^^^^^^^^^^           "
      ]
     },
     "execution_count": 20,
     "metadata": {},
     "output_type": "execute_result"
    }
   ],
   "source": [
    "target.vh.align(optimizer.best_valid_binder.vh, humanized.vh)"
   ]
  },
  {
   "cell_type": "code",
   "execution_count": 21,
   "id": "e9af7c88",
   "metadata": {},
   "outputs": [
    {
     "data": {
      "text/plain": [
       "DIVLTQSPASQSASLGESVTITCLASQTIGTWLAWYQQKPGKSPQLLIYAATSLADGVPSRFSGSGSGTKFSFKISSLQAEDFVSYYCQQLYSTPYTFGGGTKLEIK\n",
       "||.+|||||||||||||.||||||||||||||||||.|||||+|.||||||||||||||||||||||||.|||.|||||||||||||||||||||||||.|||||||\n",
       "DIHMTQSPASQSASLGERVTITCLASQTIGTWLAWYHQKPGKAPNLLIYAATSLADGVPSRFSGSGSGTNFSFNISSLQAEDFVSYYCQQLYSTPYTFGNGTKLEIK\n",
       "||.+||||+|.|||+|+|||||||||||||||||||.|||||+|.||||||||||||||||||||||||.|+..|||||.|||.+||||||||||||||.|||+|||\n",
       "DIVLTQSPSSLSASVGDRVTITCLASQTIGTWLAWYQQKPGKSPQLLIYAATSLADGVPSRFSGSGSGTKFTLTISSLQPEDFATYYCQQLYSTPYTFGGGTKVEIK\n",
       "                       ^^^^^^^^^^^               ^^^^^^^                                ^^^^^^^^^          "
      ]
     },
     "execution_count": 21,
     "metadata": {},
     "output_type": "execute_result"
    }
   ],
   "source": [
    "target.vl.align(optimizer.best_valid_binder.vl, humanized.vl)"
   ]
  },
  {
   "cell_type": "code",
   "execution_count": null,
   "id": "2e1ae727",
   "metadata": {},
   "outputs": [],
   "source": [
    "humanized.vh.align(optimizer.best_valid_binder.vh)"
   ]
  },
  {
   "cell_type": "code",
   "execution_count": 18,
   "id": "437673a1-743e-4f56-bd47-42eb40470893",
   "metadata": {},
   "outputs": [
    {
     "data": {
      "text/plain": [
       "EVQLQESGPGLVKPSETLSLTCAVSGYSITSGYSWNWIRQPPGNKLEWMGYVNNDGLNNYNPSLKSRITITRDTSKNQFSLKFSSVTAADTAVYFCTLYGYDGAWFTYWGQGTLVTVSS\n",
       "+||||||||.|||||.+|||||+|+||||||||.||||||.||||||||||.|||||||||||||+||+||||||||||.|+|.|||..|||.||||.||||||||||||||||||||+\n",
       "DVQLQESGPSLVKPSHSLSLTCSVTGYSITSGYHWNWIRQFPGNKLEWMGYHNNDGLNNYNPSLKNRISITRDTSKNQFFLRFHSVTTEDTATYFCTHYGYDGAWFTYWGQGTLVTVSA\n",
       "                         ^^^^^^^^                   ^^^^^                                         ^^^^^^^^^^           "
      ]
     },
     "execution_count": 18,
     "metadata": {},
     "output_type": "execute_result"
    }
   ],
   "source": [
    "humanized.vh.align(optimizer.best_valid_binder.vh)"
   ]
  },
  {
   "cell_type": "code",
   "execution_count": 19,
   "id": "f33f0bbe",
   "metadata": {},
   "outputs": [
    {
     "data": {
      "text/plain": [
       "DIVLTQSPSSLSASVGDRVTITCLASQTIGTWLAWYQQKPGKSPQLLIYAATSLADGVPSRFSGSGSGTKFTLTISSLQPEDFATYYCQQLYSTPYTFGGGTKVEIK\n",
       "||.+||||+|.|||+|+|||||||||||||||||||.|||||+|.||||||||||||||||||||||||.|+..|||||.|||.+||||||||||||||.|||+|||\n",
       "DIHMTQSPASQSASLGERVTITCLASQTIGTWLAWYHQKPGKAPNLLIYAATSLADGVPSRFSGSGSGTNFSFNISSLQAEDFVSYYCQQLYSTPYTFGNGTKLEIK\n",
       "                       ^^^^^^^^^^^               ^^^^^^^                                ^^^^^^^^^          "
      ]
     },
     "execution_count": 19,
     "metadata": {},
     "output_type": "execute_result"
    }
   ],
   "source": [
    "humanized.vl.align(optimizer.best_valid_binder.vl)"
   ]
  },
  {
   "cell_type": "code",
   "execution_count": 10,
   "id": "7a595405",
   "metadata": {},
   "outputs": [],
   "source": [
    "from abnumber import Chain"
   ]
  },
  {
   "cell_type": "code",
   "execution_count": 11,
   "id": "94d809cd",
   "metadata": {},
   "outputs": [],
   "source": [
    "seq = \"ERKLQESGPSLMKPSQSLSLTCSVTGYSITSGYSWNWVRQFPGNGPEWMQNVNNDGLNNYNPSLKCRISITVITSLNQFFLRFDSLTTEDTATYECTDYGYDGAWFTYWGQGTLKACSK\""
   ]
  },
  {
   "cell_type": "code",
   "execution_count": 12,
   "id": "730b0ce0",
   "metadata": {},
   "outputs": [],
   "source": [
    "chain = Chain(seq, scheme=\"chothia\")"
   ]
  },
  {
   "cell_type": "code",
   "execution_count": 13,
   "id": "25be26de",
   "metadata": {},
   "outputs": [
    {
     "ename": "NameError",
     "evalue": "name 'a' is not defined",
     "output_type": "error",
     "traceback": [
      "\u001b[0;31m---------------------------------------------------------------------------\u001b[0m",
      "\u001b[0;31mNameError\u001b[0m                                 Traceback (most recent call last)",
      "Cell \u001b[0;32mIn[13], line 1\u001b[0m\n\u001b[0;32m----> 1\u001b[0m \u001b[43ma\u001b[49m\u001b[38;5;241m.\u001b[39mv_gene\n",
      "\u001b[0;31mNameError\u001b[0m: name 'a' is not defined"
     ]
    }
   ],
   "source": [
    "a.v_gene"
   ]
  },
  {
   "cell_type": "code",
   "execution_count": null,
   "id": "a46d25c6",
   "metadata": {},
   "outputs": [],
   "source": [
    "optimizer.best_valid_binder.vh.renumber(\"imgt\").find_human_germlines"
   ]
  },
  {
   "cell_type": "code",
   "execution_count": null,
   "id": "a0b64929",
   "metadata": {},
   "outputs": [],
   "source": [
    "def v_gene_identity(sequence):\n",
    "    c = Chain(sequence, scheme=\"imgt\")\n",
    "    v_germline_chains, _ = c.find_human_germlines(limit=1)\n",
    "    top_v = v_germline_chains[0]\n",
    "\n",
    "    num_v_matches = sum(top_v.positions.get(pos) == aa for pos, aa in c)\n",
    "\n",
    "    v_identity = num_v_matches / len(top_v)\n",
    "    return v_identity"
   ]
  },
  {
   "cell_type": "code",
   "execution_count": null,
   "id": "48ebc79d",
   "metadata": {},
   "outputs": [
    {
     "data": {
      "text/plain": [
       "0.5773195876288659"
      ]
     },
     "execution_count": 37,
     "metadata": {},
     "output_type": "execute_result"
    }
   ],
   "source": [
    "v_gene_identity(optimizer.best_valid_binder.vh.seq)"
   ]
  },
  {
   "cell_type": "code",
   "execution_count": null,
   "id": "d7588f1d",
   "metadata": {},
   "outputs": [
    {
     "data": {
      "text/plain": [
       "0.49473684210526314"
      ]
     },
     "execution_count": 38,
     "metadata": {},
     "output_type": "execute_result"
    }
   ],
   "source": [
    "v_gene_identity(optimizer.best_valid_binder.vl.seq)"
   ]
  },
  {
   "cell_type": "code",
   "execution_count": null,
   "id": "e2ab4585",
   "metadata": {},
   "outputs": [],
   "source": [
    "chain = Chain(seq, 'imgt')\n",
    "\n",
    "v_germline_chains, j_germline_chains = chain.find_human_germlines(limit=1)\n",
    "top_v, top_j = v_germline_chains[0], j_germline_chains[0]\n",
    "\n",
    "num_v_matches = sum(top_v.positions.get(pos) == aa for pos, aa in chain)\n",
    "num_j_matches = sum(top_j.positions.get(pos) == aa for pos, aa in chain)\n",
    "\n",
    "v_identity = num_v_matches / len(top_v)\n",
    "j_identity = num_j_matches / len(top_j)\n",
    "full_identity = (num_v_matches + num_j_matches) / len(chain)"
   ]
  },
  {
   "cell_type": "code",
   "execution_count": null,
   "id": "6b69105b",
   "metadata": {},
   "outputs": [
    {
     "data": {
      "text/plain": [
       "0.5773195876288659"
      ]
     },
     "execution_count": 33,
     "metadata": {},
     "output_type": "execute_result"
    }
   ],
   "source": [
    "v_identity"
   ]
  },
  {
   "cell_type": "code",
   "execution_count": null,
   "id": "c9f159b2",
   "metadata": {},
   "outputs": [],
   "source": []
  }
 ],
 "metadata": {
  "kernelspec": {
   "display_name": "Python 3 (ipykernel)",
   "language": "python",
   "name": "python3"
  },
  "language_info": {
   "codemirror_mode": {
    "name": "ipython",
    "version": 3
   },
   "file_extension": ".py",
   "mimetype": "text/x-python",
   "name": "python",
   "nbconvert_exporter": "python",
   "pygments_lexer": "ipython3",
   "version": "3.12.2"
  }
 },
 "nbformat": 4,
 "nbformat_minor": 5
}
