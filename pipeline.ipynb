{
 "cells": [
  {
   "cell_type": "code",
   "execution_count": 1,
   "id": "4f242c7d-14ce-4831-83c3-761491b0decb",
   "metadata": {},
   "outputs": [
    {
     "name": "stderr",
     "output_type": "stream",
     "text": [
      "/home/ubuntu/miniconda3/lib/python3.12/site-packages/Bio/pairwise2.py:278: BiopythonDeprecationWarning: Bio.pairwise2 has been deprecated, and we intend to remove it in a future release of Biopython. As an alternative, please consider using Bio.Align.PairwiseAligner as a replacement, and contact the Biopython developers if you still need the Bio.pairwise2 module.\n",
      "  warnings.warn(\n"
     ]
    }
   ],
   "source": [
    "from optimizers.gradient import GradientOptimizer\n",
    "from utils.general import CustomIgFold, FVbinder"
   ]
  },
  {
   "cell_type": "code",
   "execution_count": 2,
   "id": "aaec3b25-4f8c-4749-ab5a-cd5ee16116c2",
   "metadata": {},
   "outputs": [
    {
     "name": "stdout",
     "output_type": "stream",
     "text": [
      "Loading /home/ubuntu/miniconda3/lib/python3.12/site-packages/igfold/trained_models/IgFold/igfold_3.ckpt...\n",
      "Loading /home/ubuntu/miniconda3/lib/python3.12/site-packages/igfold/trained_models/IgFold/igfold_5.ckpt...\n",
      "Loading /home/ubuntu/miniconda3/lib/python3.12/site-packages/igfold/trained_models/IgFold/igfold_2.ckpt...\n",
      "Loading /home/ubuntu/miniconda3/lib/python3.12/site-packages/igfold/trained_models/IgFold/igfold_1.ckpt...\n"
     ]
    }
   ],
   "source": [
    "CIF = CustomIgFold()"
   ]
  },
  {
   "cell_type": "code",
   "execution_count": 3,
   "id": "af801ad5-3e1e-46d0-abcf-7603aa29d4a5",
   "metadata": {},
   "outputs": [
    {
     "name": "stderr",
     "output_type": "stream",
     "text": [
      "BertSdpaSelfAttention is used but `torch.nn.functional.scaled_dot_product_attention` does not support non-absolute `position_embedding_type` or `output_attentions=True` or `head_mask`. Falling back to the manual attention implementation, but specifying the manual implementation will be required from Transformers version v5.0.0 onwards. This warning can be removed using the argument `attn_implementation=\"eager\"` when loading the model.\n",
      "/home/ubuntu/miniconda3/lib/python3.12/site-packages/igfold/utils/coordinates.py:18: UserWarning: Using torch.cross without specifying the dim arg is deprecated.\n",
      "Please either pass the dim explicitly or simply use torch.linalg.cross.\n",
      "The default value of dim will change to agree with that of linalg.cross in a future release. (Triggered internally at ../aten/src/ATen/native/Cross.cpp:62.)\n",
      "  n_vec = (b_coord - a_coord).expand(bc_vec.shape).cross(bc_vec)\n"
     ]
    }
   ],
   "source": [
    "light_sequence = \"DIVLTQSPASQSASLGESVTITCLASQTIGTWLAWYQQKPGKSPQLLIYAATSLADGVPSRFSGSGSGTKFSFKISSLQAEDFVSYYCQQLYSTPYTFGGGTKLEIKR\" #@param {type:\"string\"}\n",
    "heavy_sequence = \"EVKLQESGPSLVKPSQSLSLTCSVTGYSITSGYSWNWIRQFPGNKLEWMGYVNNDGLNNYNPSLKNRISITRDTSQNQFFLRFDSLTTEDTATYFCTLYGYDGAWFTYWGQGTLVTVSA\" #@param {type:\"string\"}\n",
    "target = FVbinder(vh=heavy_sequence, vl=light_sequence)\n",
    "CIF.fold(target)"
   ]
  },
  {
   "cell_type": "code",
   "execution_count": 4,
   "id": "61bb37dd",
   "metadata": {},
   "outputs": [],
   "source": [
    "humanized_vh = \"EVQLQESGPGLVKPSETLSLTCAVSGYSITSGYSWNWIRQPPGNKLEWMGYVNNDGLNNYNPSLKSRITITRDTSKNQFSLKFSSVTAADTAVYFCTLYGYDGAWFTYWGQGTLVTVSS\"\n",
    "humanized_vl = \"DIVLTQSPSSLSASVGDRVTITCLASQTIGTWLAWYQQKPGKSPQLLIYAATSLADGVPSRFSGSGSGTKFTLTISSLQPEDFATYYCQQLYSTPYTFGGGTKVEIKR\"\n",
    "humanized = FVbinder(vh=humanized_vh, vl=humanized_vl)"
   ]
  },
  {
   "cell_type": "code",
   "execution_count": 5,
   "id": "b0ea698d-8159-4bd8-b4fa-fdccace1cd2f",
   "metadata": {},
   "outputs": [],
   "source": [
    "optimizer = GradientOptimizer(lr=0.05, sub_infinity=10, start=target, target=target, verbose=True, tensorboard=True)"
   ]
  },
  {
   "cell_type": "code",
   "execution_count": 14,
   "id": "0d189302-5cee-468c-86ed-c1352e3eea24",
   "metadata": {
    "scrolled": true
   },
   "outputs": [
    {
     "data": {
      "application/vnd.jupyter.widget-view+json": {
       "model_id": "2be32dbdc0954db3ae61776996b43a59",
       "version_major": 2,
       "version_minor": 0
      },
      "text/plain": [
       "  0%|          | 0/100 [00:00<?, ?it/s]"
      ]
     },
     "metadata": {},
     "output_type": "display_data"
    },
    {
     "name": "stdout",
     "output_type": "stream",
     "text": [
      "RMSD Loss: tensor([0.0620], device='cuda:0', grad_fn=<DivBackward0>)\n",
      "Species Loss: 10.876925468444824\n",
      "Log-likelyhood Loss: 14.764541625976562\n",
      "Full Loss: tensor([6.1370], device='cuda:0', grad_fn=<AddBackward0>)\n",
      "\n",
      "---\n",
      "RMSD Loss: tensor([0.0620], device='cuda:0', grad_fn=<DivBackward0>)\n",
      "Species Loss: 10.870847702026367\n",
      "Log-likelyhood Loss: 14.763350486755371\n",
      "Full Loss: tensor([6.1361], device='cuda:0', grad_fn=<AddBackward0>)\n",
      "\n",
      "---\n",
      "RMSD Loss: tensor([0.0620], device='cuda:0', grad_fn=<DivBackward0>)\n",
      "Species Loss: 10.865424156188965\n",
      "Log-likelyhood Loss: 14.762173652648926\n",
      "Full Loss: tensor([6.1353], device='cuda:0', grad_fn=<AddBackward0>)\n",
      "\n",
      "---\n",
      "RMSD Loss: tensor([0.0620], device='cuda:0', grad_fn=<DivBackward0>)\n",
      "Species Loss: 10.860895156860352\n",
      "Log-likelyhood Loss: 14.760716438293457\n",
      "Full Loss: tensor([6.1346], device='cuda:0', grad_fn=<AddBackward0>)\n",
      "\n",
      "---\n",
      "RMSD Loss: tensor([0.0620], device='cuda:0', grad_fn=<DivBackward0>)\n",
      "Species Loss: 10.857342720031738\n",
      "Log-likelyhood Loss: 14.758878707885742\n",
      "Full Loss: tensor([6.1338], device='cuda:0', grad_fn=<AddBackward0>)\n",
      "\n",
      "---\n",
      "RMSD Loss: tensor([0.0621], device='cuda:0', grad_fn=<DivBackward0>)\n",
      "Species Loss: 10.854701042175293\n",
      "Log-likelyhood Loss: 14.75671100616455\n",
      "Full Loss: tensor([6.1331], device='cuda:0', grad_fn=<AddBackward0>)\n",
      "\n",
      "---\n",
      "RMSD Loss: tensor([0.0621], device='cuda:0', grad_fn=<DivBackward0>)\n",
      "Species Loss: 10.85280704498291\n",
      "Log-likelyhood Loss: 14.754355430603027\n",
      "Full Loss: tensor([6.1323], device='cuda:0', grad_fn=<AddBackward0>)\n",
      "\n",
      "---\n",
      "RMSD Loss: tensor([0.0621], device='cuda:0', grad_fn=<DivBackward0>)\n",
      "Species Loss: 10.851459503173828\n",
      "Log-likelyhood Loss: 14.751972198486328\n",
      "Full Loss: tensor([6.1316], device='cuda:0', grad_fn=<AddBackward0>)\n",
      "\n",
      "---\n",
      "RMSD Loss: tensor([0.0621], device='cuda:0', grad_fn=<DivBackward0>)\n",
      "Species Loss: 10.850470542907715\n",
      "Log-likelyhood Loss: 14.74970531463623\n",
      "Full Loss: tensor([6.1309], device='cuda:0', grad_fn=<AddBackward0>)\n",
      "\n",
      "---\n",
      "RMSD Loss: tensor([0.0621], device='cuda:0', grad_fn=<DivBackward0>)\n",
      "Species Loss: 10.849712371826172\n",
      "Log-likelyhood Loss: 14.747645378112793\n",
      "Full Loss: tensor([6.1303], device='cuda:0', grad_fn=<AddBackward0>)\n",
      "\n",
      "---\n",
      "RMSD Loss: tensor([0.0621], device='cuda:0', grad_fn=<DivBackward0>)\n",
      "Species Loss: 10.849099159240723\n",
      "Log-likelyhood Loss: 14.745834350585938\n",
      "Full Loss: tensor([6.1298], device='cuda:0', grad_fn=<AddBackward0>)\n",
      "\n",
      "---\n",
      "RMSD Loss: tensor([0.0621], device='cuda:0', grad_fn=<DivBackward0>)\n",
      "Species Loss: 10.84858226776123\n",
      "Log-likelyhood Loss: 14.744279861450195\n",
      "Full Loss: tensor([6.1294], device='cuda:0', grad_fn=<AddBackward0>)\n",
      "\n",
      "---\n",
      "RMSD Loss: tensor([0.0621], device='cuda:0', grad_fn=<DivBackward0>)\n",
      "Species Loss: 10.848134994506836\n",
      "Log-likelyhood Loss: 14.742959022521973\n",
      "Full Loss: tensor([6.1290], device='cuda:0', grad_fn=<AddBackward0>)\n",
      "\n",
      "---\n",
      "RMSD Loss: tensor([0.0621], device='cuda:0', grad_fn=<DivBackward0>)\n",
      "Species Loss: 10.847750663757324\n",
      "Log-likelyhood Loss: 14.741849899291992\n",
      "Full Loss: tensor([6.1287], device='cuda:0', grad_fn=<AddBackward0>)\n",
      "\n",
      "---\n",
      "RMSD Loss: tensor([0.0621], device='cuda:0', grad_fn=<DivBackward0>)\n",
      "Species Loss: 10.847411155700684\n",
      "Log-likelyhood Loss: 14.74091911315918\n",
      "Full Loss: tensor([6.1285], device='cuda:0', grad_fn=<AddBackward0>)\n",
      "\n",
      "---\n",
      "RMSD Loss: tensor([0.0621], device='cuda:0', grad_fn=<DivBackward0>)\n",
      "Species Loss: 10.847116470336914\n",
      "Log-likelyhood Loss: 14.740140914916992\n",
      "Full Loss: tensor([6.1282], device='cuda:0', grad_fn=<AddBackward0>)\n",
      "\n",
      "---\n",
      "RMSD Loss: tensor([0.0622], device='cuda:0', grad_fn=<DivBackward0>)\n",
      "Species Loss: 10.8468599319458\n",
      "Log-likelyhood Loss: 14.739484786987305\n",
      "Full Loss: tensor([6.1281], device='cuda:0', grad_fn=<AddBackward0>)\n",
      "\n",
      "---\n",
      "RMSD Loss: tensor([0.0622], device='cuda:0', grad_fn=<DivBackward0>)\n",
      "Species Loss: 10.846632957458496\n",
      "Log-likelyhood Loss: 14.738930702209473\n",
      "Full Loss: tensor([6.1279], device='cuda:0', grad_fn=<AddBackward0>)\n",
      "\n",
      "---\n",
      "RMSD Loss: tensor([0.0622], device='cuda:0', grad_fn=<DivBackward0>)\n",
      "Species Loss: 10.84643840789795\n",
      "Log-likelyhood Loss: 14.738459587097168\n",
      "Full Loss: tensor([6.1278], device='cuda:0', grad_fn=<AddBackward0>)\n",
      "\n",
      "---\n",
      "RMSD Loss: tensor([0.0622], device='cuda:0', grad_fn=<DivBackward0>)\n",
      "Species Loss: 10.84626579284668\n",
      "Log-likelyhood Loss: 14.738057136535645\n",
      "Full Loss: tensor([6.1276], device='cuda:0', grad_fn=<AddBackward0>)\n",
      "\n",
      "---\n",
      "RMSD Loss: tensor([0.0622], device='cuda:0', grad_fn=<DivBackward0>)\n",
      "Species Loss: 10.846115112304688\n",
      "Log-likelyhood Loss: 14.737711906433105\n",
      "Full Loss: tensor([6.1275], device='cuda:0', grad_fn=<AddBackward0>)\n",
      "\n",
      "---\n",
      "RMSD Loss: tensor([0.0622], device='cuda:0', grad_fn=<DivBackward0>)\n",
      "Species Loss: 10.84598159790039\n",
      "Log-likelyhood Loss: 14.737414360046387\n",
      "Full Loss: tensor([6.1274], device='cuda:0', grad_fn=<AddBackward0>)\n",
      "\n",
      "---\n",
      "RMSD Loss: tensor([0.0622], device='cuda:0', grad_fn=<DivBackward0>)\n",
      "Species Loss: 10.845866203308105\n",
      "Log-likelyhood Loss: 14.737154960632324\n",
      "Full Loss: tensor([6.1274], device='cuda:0', grad_fn=<AddBackward0>)\n",
      "\n",
      "---\n",
      "RMSD Loss: tensor([0.0622], device='cuda:0', grad_fn=<DivBackward0>)\n",
      "Species Loss: 10.84576416015625\n",
      "Log-likelyhood Loss: 14.736931800842285\n",
      "Full Loss: tensor([6.1273], device='cuda:0', grad_fn=<AddBackward0>)\n",
      "\n",
      "---\n",
      "RMSD Loss: tensor([0.0622], device='cuda:0', grad_fn=<DivBackward0>)\n",
      "Species Loss: 10.845673561096191\n",
      "Log-likelyhood Loss: 14.736736297607422\n",
      "Full Loss: tensor([6.1272], device='cuda:0', grad_fn=<AddBackward0>)\n",
      "\n",
      "---\n",
      "RMSD Loss: tensor([0.0622], device='cuda:0', grad_fn=<DivBackward0>)\n",
      "Species Loss: 10.84559440612793\n",
      "Log-likelyhood Loss: 14.736563682556152\n",
      "Full Loss: tensor([6.1272], device='cuda:0', grad_fn=<AddBackward0>)\n",
      "\n",
      "---\n",
      "RMSD Loss: tensor([0.0622], device='cuda:0', grad_fn=<DivBackward0>)\n",
      "Species Loss: 10.8455228805542\n",
      "Log-likelyhood Loss: 14.736412048339844\n",
      "Full Loss: tensor([6.1272], device='cuda:0', grad_fn=<AddBackward0>)\n",
      "\n",
      "---\n",
      "RMSD Loss: tensor([0.0622], device='cuda:0', grad_fn=<DivBackward0>)\n",
      "Species Loss: 10.84546184539795\n",
      "Log-likelyhood Loss: 14.736273765563965\n",
      "Full Loss: tensor([6.1271], device='cuda:0', grad_fn=<AddBackward0>)\n",
      "\n",
      "---\n",
      "RMSD Loss: tensor([0.0622], device='cuda:0', grad_fn=<DivBackward0>)\n",
      "Species Loss: 10.845406532287598\n",
      "Log-likelyhood Loss: 14.73615550994873\n",
      "Full Loss: tensor([6.1271], device='cuda:0', grad_fn=<AddBackward0>)\n",
      "\n",
      "---\n",
      "RMSD Loss: tensor([0.0622], device='cuda:0', grad_fn=<DivBackward0>)\n",
      "Species Loss: 10.845356941223145\n",
      "Log-likelyhood Loss: 14.736044883728027\n",
      "Full Loss: tensor([6.1271], device='cuda:0', grad_fn=<AddBackward0>)\n",
      "\n",
      "---\n",
      "RMSD Loss: tensor([0.0622], device='cuda:0', grad_fn=<DivBackward0>)\n",
      "Species Loss: 10.845311164855957\n",
      "Log-likelyhood Loss: 14.735949516296387\n",
      "Full Loss: tensor([6.1270], device='cuda:0', grad_fn=<AddBackward0>)\n",
      "\n",
      "---\n",
      "RMSD Loss: tensor([0.0622], device='cuda:0', grad_fn=<DivBackward0>)\n",
      "Species Loss: 10.845272064208984\n",
      "Log-likelyhood Loss: 14.735858917236328\n",
      "Full Loss: tensor([6.1270], device='cuda:0', grad_fn=<AddBackward0>)\n",
      "\n",
      "---\n",
      "RMSD Loss: tensor([0.0622], device='cuda:0', grad_fn=<DivBackward0>)\n",
      "Species Loss: 10.845236778259277\n",
      "Log-likelyhood Loss: 14.735779762268066\n",
      "Full Loss: tensor([6.1270], device='cuda:0', grad_fn=<AddBackward0>)\n",
      "\n",
      "---\n",
      "RMSD Loss: tensor([0.0622], device='cuda:0', grad_fn=<DivBackward0>)\n",
      "Species Loss: 10.84520435333252\n",
      "Log-likelyhood Loss: 14.735706329345703\n",
      "Full Loss: tensor([6.1270], device='cuda:0', grad_fn=<AddBackward0>)\n",
      "\n",
      "---\n",
      "RMSD Loss: tensor([0.0622], device='cuda:0', grad_fn=<DivBackward0>)\n",
      "Species Loss: 10.845174789428711\n",
      "Log-likelyhood Loss: 14.735639572143555\n",
      "Full Loss: tensor([6.1269], device='cuda:0', grad_fn=<AddBackward0>)\n",
      "\n",
      "---\n",
      "RMSD Loss: tensor([0.0622], device='cuda:0', grad_fn=<DivBackward0>)\n",
      "Species Loss: 10.845147132873535\n",
      "Log-likelyhood Loss: 14.735578536987305\n",
      "Full Loss: tensor([6.1269], device='cuda:0', grad_fn=<AddBackward0>)\n",
      "\n",
      "---\n",
      "RMSD Loss: tensor([0.0622], device='cuda:0', grad_fn=<DivBackward0>)\n",
      "Species Loss: 10.845123291015625\n",
      "Log-likelyhood Loss: 14.735519409179688\n",
      "Full Loss: tensor([6.1269], device='cuda:0', grad_fn=<AddBackward0>)\n",
      "\n",
      "---\n",
      "RMSD Loss: tensor([0.0622], device='cuda:0', grad_fn=<DivBackward0>)\n",
      "Species Loss: 10.845100402832031\n",
      "Log-likelyhood Loss: 14.735468864440918\n",
      "Full Loss: tensor([6.1269], device='cuda:0', grad_fn=<AddBackward0>)\n",
      "\n",
      "---\n",
      "RMSD Loss: tensor([0.0622], device='cuda:0', grad_fn=<DivBackward0>)\n",
      "Species Loss: 10.84507942199707\n",
      "Log-likelyhood Loss: 14.735419273376465\n",
      "Full Loss: tensor([6.1269], device='cuda:0', grad_fn=<AddBackward0>)\n",
      "\n",
      "---\n",
      "RMSD Loss: tensor([0.0622], device='cuda:0', grad_fn=<DivBackward0>)\n",
      "Species Loss: 10.845059394836426\n",
      "Log-likelyhood Loss: 14.73537540435791\n",
      "Full Loss: tensor([6.1269], device='cuda:0', grad_fn=<AddBackward0>)\n",
      "\n",
      "---\n",
      "RMSD Loss: tensor([0.0622], device='cuda:0', grad_fn=<DivBackward0>)\n",
      "Species Loss: 10.845043182373047\n",
      "Log-likelyhood Loss: 14.735330581665039\n",
      "Full Loss: tensor([6.1269], device='cuda:0', grad_fn=<AddBackward0>)\n",
      "\n",
      "---\n",
      "RMSD Loss: tensor([0.0622], device='cuda:0', grad_fn=<DivBackward0>)\n",
      "Species Loss: 10.845026969909668\n",
      "Log-likelyhood Loss: 14.73529052734375\n",
      "Full Loss: tensor([6.1268], device='cuda:0', grad_fn=<AddBackward0>)\n",
      "\n",
      "---\n",
      "RMSD Loss: tensor([0.0622], device='cuda:0', grad_fn=<DivBackward0>)\n",
      "Species Loss: 10.845012664794922\n",
      "Log-likelyhood Loss: 14.73525333404541\n",
      "Full Loss: tensor([6.1268], device='cuda:0', grad_fn=<AddBackward0>)\n",
      "\n",
      "---\n",
      "RMSD Loss: tensor([0.0622], device='cuda:0', grad_fn=<DivBackward0>)\n",
      "Species Loss: 10.844998359680176\n",
      "Log-likelyhood Loss: 14.735218048095703\n",
      "Full Loss: tensor([6.1268], device='cuda:0', grad_fn=<AddBackward0>)\n",
      "\n",
      "---\n",
      "RMSD Loss: tensor([0.0622], device='cuda:0', grad_fn=<DivBackward0>)\n",
      "Species Loss: 10.844983100891113\n",
      "Log-likelyhood Loss: 14.735185623168945\n",
      "Full Loss: tensor([6.1268], device='cuda:0', grad_fn=<AddBackward0>)\n",
      "\n",
      "---\n",
      "RMSD Loss: tensor([0.0622], device='cuda:0', grad_fn=<DivBackward0>)\n",
      "Species Loss: 10.844974517822266\n",
      "Log-likelyhood Loss: 14.735152244567871\n",
      "Full Loss: tensor([6.1268], device='cuda:0', grad_fn=<AddBackward0>)\n",
      "\n",
      "---\n",
      "RMSD Loss: tensor([0.0622], device='cuda:0', grad_fn=<DivBackward0>)\n",
      "Species Loss: 10.844961166381836\n",
      "Log-likelyhood Loss: 14.735121726989746\n",
      "Full Loss: tensor([6.1268], device='cuda:0', grad_fn=<AddBackward0>)\n",
      "\n",
      "---\n",
      "RMSD Loss: tensor([0.0622], device='cuda:0', grad_fn=<DivBackward0>)\n",
      "Species Loss: 10.844949722290039\n",
      "Log-likelyhood Loss: 14.73509407043457\n",
      "Full Loss: tensor([6.1268], device='cuda:0', grad_fn=<AddBackward0>)\n",
      "\n",
      "---\n",
      "RMSD Loss: tensor([0.0622], device='cuda:0', grad_fn=<DivBackward0>)\n",
      "Species Loss: 10.844940185546875\n",
      "Log-likelyhood Loss: 14.735066413879395\n",
      "Full Loss: tensor([6.1268], device='cuda:0', grad_fn=<AddBackward0>)\n",
      "\n",
      "---\n",
      "RMSD Loss: tensor([0.0622], device='cuda:0', grad_fn=<DivBackward0>)\n",
      "Species Loss: 10.844929695129395\n",
      "Log-likelyhood Loss: 14.735039710998535\n",
      "Full Loss: tensor([6.1268], device='cuda:0', grad_fn=<AddBackward0>)\n",
      "\n",
      "---\n",
      "RMSD Loss: tensor([0.0622], device='cuda:0', grad_fn=<DivBackward0>)\n",
      "Species Loss: 10.844919204711914\n",
      "Log-likelyhood Loss: 14.735013961791992\n",
      "Full Loss: tensor([6.1268], device='cuda:0', grad_fn=<AddBackward0>)\n",
      "\n",
      "---\n",
      "RMSD Loss: tensor([0.0622], device='cuda:0', grad_fn=<DivBackward0>)\n",
      "Species Loss: 10.8449125289917\n",
      "Log-likelyhood Loss: 14.734992027282715\n",
      "Full Loss: tensor([6.1268], device='cuda:0', grad_fn=<AddBackward0>)\n",
      "\n",
      "---\n",
      "RMSD Loss: tensor([0.0622], device='cuda:0', grad_fn=<DivBackward0>)\n",
      "Species Loss: 10.844903945922852\n",
      "Log-likelyhood Loss: 14.734968185424805\n",
      "Full Loss: tensor([6.1267], device='cuda:0', grad_fn=<AddBackward0>)\n",
      "\n",
      "---\n",
      "RMSD Loss: tensor([0.0622], device='cuda:0', grad_fn=<DivBackward0>)\n",
      "Species Loss: 10.844897270202637\n",
      "Log-likelyhood Loss: 14.734944343566895\n",
      "Full Loss: tensor([6.1267], device='cuda:0', grad_fn=<AddBackward0>)\n",
      "\n",
      "---\n",
      "RMSD Loss: tensor([0.0622], device='cuda:0', grad_fn=<DivBackward0>)\n",
      "Species Loss: 10.844888687133789\n",
      "Log-likelyhood Loss: 14.73492431640625\n",
      "Full Loss: tensor([6.1267], device='cuda:0', grad_fn=<AddBackward0>)\n",
      "\n",
      "---\n",
      "RMSD Loss: tensor([0.0622], device='cuda:0', grad_fn=<DivBackward0>)\n",
      "Species Loss: 10.844882011413574\n",
      "Log-likelyhood Loss: 14.734904289245605\n",
      "Full Loss: tensor([6.1267], device='cuda:0', grad_fn=<AddBackward0>)\n",
      "\n",
      "---\n",
      "RMSD Loss: tensor([0.0622], device='cuda:0', grad_fn=<DivBackward0>)\n",
      "Species Loss: 10.84487533569336\n",
      "Log-likelyhood Loss: 14.734882354736328\n",
      "Full Loss: tensor([6.1267], device='cuda:0', grad_fn=<AddBackward0>)\n",
      "\n",
      "---\n",
      "RMSD Loss: tensor([0.0622], device='cuda:0', grad_fn=<DivBackward0>)\n",
      "Species Loss: 10.844866752624512\n",
      "Log-likelyhood Loss: 14.73486328125\n",
      "Full Loss: tensor([6.1267], device='cuda:0', grad_fn=<AddBackward0>)\n",
      "\n",
      "---\n",
      "RMSD Loss: tensor([0.0622], device='cuda:0', grad_fn=<DivBackward0>)\n",
      "Species Loss: 10.84486198425293\n",
      "Log-likelyhood Loss: 14.734843254089355\n",
      "Full Loss: tensor([6.1267], device='cuda:0', grad_fn=<AddBackward0>)\n",
      "\n",
      "---\n",
      "RMSD Loss: tensor([0.0622], device='cuda:0', grad_fn=<DivBackward0>)\n",
      "Species Loss: 10.844856262207031\n",
      "Log-likelyhood Loss: 14.734825134277344\n",
      "Full Loss: tensor([6.1267], device='cuda:0', grad_fn=<AddBackward0>)\n",
      "\n",
      "---\n",
      "RMSD Loss: tensor([0.0622], device='cuda:0', grad_fn=<DivBackward0>)\n",
      "Species Loss: 10.844849586486816\n",
      "Log-likelyhood Loss: 14.734807014465332\n",
      "Full Loss: tensor([6.1267], device='cuda:0', grad_fn=<AddBackward0>)\n",
      "\n",
      "---\n",
      "RMSD Loss: tensor([0.0622], device='cuda:0', grad_fn=<DivBackward0>)\n",
      "Species Loss: 10.844843864440918\n",
      "Log-likelyhood Loss: 14.734786987304688\n",
      "Full Loss: tensor([6.1267], device='cuda:0', grad_fn=<AddBackward0>)\n",
      "\n",
      "---\n",
      "RMSD Loss: tensor([0.0622], device='cuda:0', grad_fn=<DivBackward0>)\n",
      "Species Loss: 10.844837188720703\n",
      "Log-likelyhood Loss: 14.734772682189941\n",
      "Full Loss: tensor([6.1267], device='cuda:0', grad_fn=<AddBackward0>)\n",
      "\n",
      "---\n",
      "RMSD Loss: tensor([0.0622], device='cuda:0', grad_fn=<DivBackward0>)\n",
      "Species Loss: 10.844833374023438\n",
      "Log-likelyhood Loss: 14.734755516052246\n",
      "Full Loss: tensor([6.1267], device='cuda:0', grad_fn=<AddBackward0>)\n",
      "\n",
      "---\n",
      "RMSD Loss: tensor([0.0622], device='cuda:0', grad_fn=<DivBackward0>)\n",
      "Species Loss: 10.844829559326172\n",
      "Log-likelyhood Loss: 14.734737396240234\n",
      "Full Loss: tensor([6.1267], device='cuda:0', grad_fn=<AddBackward0>)\n",
      "\n",
      "---\n",
      "RMSD Loss: tensor([0.0622], device='cuda:0', grad_fn=<DivBackward0>)\n",
      "Species Loss: 10.84482192993164\n",
      "Log-likelyhood Loss: 14.734722137451172\n",
      "Full Loss: tensor([6.1267], device='cuda:0', grad_fn=<AddBackward0>)\n",
      "\n",
      "---\n",
      "RMSD Loss: tensor([0.0622], device='cuda:0', grad_fn=<DivBackward0>)\n",
      "Species Loss: 10.844818115234375\n",
      "Log-likelyhood Loss: 14.734705924987793\n",
      "Full Loss: tensor([6.1267], device='cuda:0', grad_fn=<AddBackward0>)\n",
      "\n",
      "---\n",
      "RMSD Loss: tensor([0.0622], device='cuda:0', grad_fn=<DivBackward0>)\n",
      "Species Loss: 10.844813346862793\n",
      "Log-likelyhood Loss: 14.734689712524414\n",
      "Full Loss: tensor([6.1267], device='cuda:0', grad_fn=<AddBackward0>)\n",
      "\n",
      "---\n",
      "RMSD Loss: tensor([0.0622], device='cuda:0', grad_fn=<DivBackward0>)\n",
      "Species Loss: 10.844808578491211\n",
      "Log-likelyhood Loss: 14.734675407409668\n",
      "Full Loss: tensor([6.1267], device='cuda:0', grad_fn=<AddBackward0>)\n",
      "\n",
      "---\n",
      "RMSD Loss: tensor([0.0622], device='cuda:0', grad_fn=<DivBackward0>)\n",
      "Species Loss: 10.844803810119629\n",
      "Log-likelyhood Loss: 14.734660148620605\n",
      "Full Loss: tensor([6.1267], device='cuda:0', grad_fn=<AddBackward0>)\n",
      "\n",
      "---\n",
      "RMSD Loss: tensor([0.0622], device='cuda:0', grad_fn=<DivBackward0>)\n",
      "Species Loss: 10.844799041748047\n",
      "Log-likelyhood Loss: 14.73464584350586\n",
      "Full Loss: tensor([6.1267], device='cuda:0', grad_fn=<AddBackward0>)\n",
      "\n",
      "---\n",
      "RMSD Loss: tensor([0.0622], device='cuda:0', grad_fn=<DivBackward0>)\n",
      "Species Loss: 10.844793319702148\n",
      "Log-likelyhood Loss: 14.73462963104248\n",
      "Full Loss: tensor([6.1266], device='cuda:0', grad_fn=<AddBackward0>)\n",
      "\n",
      "---\n",
      "RMSD Loss: tensor([0.0622], device='cuda:0', grad_fn=<DivBackward0>)\n",
      "Species Loss: 10.844788551330566\n",
      "Log-likelyhood Loss: 14.734615325927734\n",
      "Full Loss: tensor([6.1266], device='cuda:0', grad_fn=<AddBackward0>)\n",
      "\n",
      "---\n",
      "RMSD Loss: tensor([0.0622], device='cuda:0', grad_fn=<DivBackward0>)\n",
      "Species Loss: 10.8447847366333\n",
      "Log-likelyhood Loss: 14.734601974487305\n",
      "Full Loss: tensor([6.1266], device='cuda:0', grad_fn=<AddBackward0>)\n",
      "\n",
      "---\n",
      "RMSD Loss: tensor([0.0622], device='cuda:0', grad_fn=<DivBackward0>)\n",
      "Species Loss: 10.844781875610352\n",
      "Log-likelyhood Loss: 14.734585762023926\n",
      "Full Loss: tensor([6.1266], device='cuda:0', grad_fn=<AddBackward0>)\n",
      "\n",
      "---\n",
      "RMSD Loss: tensor([0.0622], device='cuda:0', grad_fn=<DivBackward0>)\n",
      "Species Loss: 10.84477710723877\n",
      "Log-likelyhood Loss: 14.734572410583496\n",
      "Full Loss: tensor([6.1266], device='cuda:0', grad_fn=<AddBackward0>)\n",
      "\n",
      "---\n",
      "RMSD Loss: tensor([0.0622], device='cuda:0', grad_fn=<DivBackward0>)\n",
      "Species Loss: 10.844772338867188\n",
      "Log-likelyhood Loss: 14.73455810546875\n",
      "Full Loss: tensor([6.1266], device='cuda:0', grad_fn=<AddBackward0>)\n",
      "\n",
      "---\n",
      "RMSD Loss: tensor([0.0622], device='cuda:0', grad_fn=<DivBackward0>)\n",
      "Species Loss: 10.844769477844238\n",
      "Log-likelyhood Loss: 14.734545707702637\n",
      "Full Loss: tensor([6.1266], device='cuda:0', grad_fn=<AddBackward0>)\n",
      "\n",
      "---\n",
      "RMSD Loss: tensor([0.0622], device='cuda:0', grad_fn=<DivBackward0>)\n",
      "Species Loss: 10.84476375579834\n",
      "Log-likelyhood Loss: 14.734532356262207\n",
      "Full Loss: tensor([6.1266], device='cuda:0', grad_fn=<AddBackward0>)\n",
      "\n",
      "---\n",
      "RMSD Loss: tensor([0.0622], device='cuda:0', grad_fn=<DivBackward0>)\n",
      "Species Loss: 10.84476089477539\n",
      "Log-likelyhood Loss: 14.734519004821777\n",
      "Full Loss: tensor([6.1266], device='cuda:0', grad_fn=<AddBackward0>)\n",
      "\n",
      "---\n",
      "RMSD Loss: tensor([0.0622], device='cuda:0', grad_fn=<DivBackward0>)\n",
      "Species Loss: 10.844757080078125\n",
      "Log-likelyhood Loss: 14.734506607055664\n",
      "Full Loss: tensor([6.1266], device='cuda:0', grad_fn=<AddBackward0>)\n",
      "\n",
      "---\n",
      "RMSD Loss: tensor([0.0622], device='cuda:0', grad_fn=<DivBackward0>)\n",
      "Species Loss: 10.844751358032227\n",
      "Log-likelyhood Loss: 14.734492301940918\n",
      "Full Loss: tensor([6.1266], device='cuda:0', grad_fn=<AddBackward0>)\n",
      "\n",
      "---\n",
      "RMSD Loss: tensor([0.0622], device='cuda:0', grad_fn=<DivBackward0>)\n",
      "Species Loss: 10.844748497009277\n",
      "Log-likelyhood Loss: 14.734477043151855\n",
      "Full Loss: tensor([6.1266], device='cuda:0', grad_fn=<AddBackward0>)\n",
      "\n",
      "---\n",
      "RMSD Loss: tensor([0.0622], device='cuda:0', grad_fn=<DivBackward0>)\n",
      "Species Loss: 10.844745635986328\n",
      "Log-likelyhood Loss: 14.734467506408691\n",
      "Full Loss: tensor([6.1266], device='cuda:0', grad_fn=<AddBackward0>)\n",
      "\n",
      "---\n",
      "RMSD Loss: tensor([0.0622], device='cuda:0', grad_fn=<DivBackward0>)\n",
      "Species Loss: 10.844741821289062\n",
      "Log-likelyhood Loss: 14.734453201293945\n",
      "Full Loss: tensor([6.1266], device='cuda:0', grad_fn=<AddBackward0>)\n",
      "\n",
      "---\n",
      "RMSD Loss: tensor([0.0622], device='cuda:0', grad_fn=<DivBackward0>)\n",
      "Species Loss: 10.844738960266113\n",
      "Log-likelyhood Loss: 14.734440803527832\n",
      "Full Loss: tensor([6.1266], device='cuda:0', grad_fn=<AddBackward0>)\n",
      "\n",
      "---\n",
      "RMSD Loss: tensor([0.0622], device='cuda:0', grad_fn=<DivBackward0>)\n",
      "Species Loss: 10.844734191894531\n",
      "Log-likelyhood Loss: 14.734428405761719\n",
      "Full Loss: tensor([6.1266], device='cuda:0', grad_fn=<AddBackward0>)\n",
      "\n",
      "---\n",
      "RMSD Loss: tensor([0.0622], device='cuda:0', grad_fn=<DivBackward0>)\n",
      "Species Loss: 10.844731330871582\n",
      "Log-likelyhood Loss: 14.734416007995605\n",
      "Full Loss: tensor([6.1266], device='cuda:0', grad_fn=<AddBackward0>)\n",
      "\n",
      "---\n",
      "RMSD Loss: tensor([0.0622], device='cuda:0', grad_fn=<DivBackward0>)\n",
      "Species Loss: 10.844728469848633\n",
      "Log-likelyhood Loss: 14.734403610229492\n",
      "Full Loss: tensor([6.1266], device='cuda:0', grad_fn=<AddBackward0>)\n",
      "\n",
      "---\n",
      "RMSD Loss: tensor([0.0622], device='cuda:0', grad_fn=<DivBackward0>)\n",
      "Species Loss: 10.84472370147705\n",
      "Log-likelyhood Loss: 14.734392166137695\n",
      "Full Loss: tensor([6.1266], device='cuda:0', grad_fn=<AddBackward0>)\n",
      "\n",
      "---\n",
      "RMSD Loss: tensor([0.0622], device='cuda:0', grad_fn=<DivBackward0>)\n",
      "Species Loss: 10.844720840454102\n",
      "Log-likelyhood Loss: 14.734379768371582\n",
      "Full Loss: tensor([6.1266], device='cuda:0', grad_fn=<AddBackward0>)\n",
      "\n",
      "---\n",
      "RMSD Loss: tensor([0.0622], device='cuda:0', grad_fn=<DivBackward0>)\n",
      "Species Loss: 10.844717025756836\n",
      "Log-likelyhood Loss: 14.734367370605469\n",
      "Full Loss: tensor([6.1266], device='cuda:0', grad_fn=<AddBackward0>)\n",
      "\n",
      "---\n",
      "RMSD Loss: tensor([0.0622], device='cuda:0', grad_fn=<DivBackward0>)\n",
      "Species Loss: 10.84471321105957\n",
      "Log-likelyhood Loss: 14.734354972839355\n",
      "Full Loss: tensor([6.1266], device='cuda:0', grad_fn=<AddBackward0>)\n",
      "\n",
      "---\n",
      "RMSD Loss: tensor([0.0622], device='cuda:0', grad_fn=<DivBackward0>)\n",
      "Species Loss: 10.844712257385254\n",
      "Log-likelyhood Loss: 14.734344482421875\n",
      "Full Loss: tensor([6.1266], device='cuda:0', grad_fn=<AddBackward0>)\n",
      "\n",
      "---\n",
      "RMSD Loss: tensor([0.0622], device='cuda:0', grad_fn=<DivBackward0>)\n",
      "Species Loss: 10.844707489013672\n",
      "Log-likelyhood Loss: 14.734333038330078\n",
      "Full Loss: tensor([6.1266], device='cuda:0', grad_fn=<AddBackward0>)\n",
      "\n",
      "---\n",
      "RMSD Loss: tensor([0.0622], device='cuda:0', grad_fn=<DivBackward0>)\n",
      "Species Loss: 10.844703674316406\n",
      "Log-likelyhood Loss: 14.734320640563965\n",
      "Full Loss: tensor([6.1266], device='cuda:0', grad_fn=<AddBackward0>)\n",
      "\n",
      "---\n",
      "RMSD Loss: tensor([0.0622], device='cuda:0', grad_fn=<DivBackward0>)\n",
      "Species Loss: 10.84470272064209\n",
      "Log-likelyhood Loss: 14.7343111038208\n",
      "Full Loss: tensor([6.1266], device='cuda:0', grad_fn=<AddBackward0>)\n",
      "\n",
      "---\n",
      "RMSD Loss: tensor([0.0622], device='cuda:0', grad_fn=<DivBackward0>)\n",
      "Species Loss: 10.844698905944824\n",
      "Log-likelyhood Loss: 14.73430061340332\n",
      "Full Loss: tensor([6.1266], device='cuda:0', grad_fn=<AddBackward0>)\n",
      "\n",
      "---\n",
      "RMSD Loss: tensor([0.0622], device='cuda:0', grad_fn=<DivBackward0>)\n",
      "Species Loss: 10.844696044921875\n",
      "Log-likelyhood Loss: 14.734289169311523\n",
      "Full Loss: tensor([6.1265], device='cuda:0', grad_fn=<AddBackward0>)\n",
      "\n",
      "---\n",
      "RMSD Loss: tensor([0.0622], device='cuda:0', grad_fn=<DivBackward0>)\n",
      "Species Loss: 10.844693183898926\n",
      "Log-likelyhood Loss: 14.73427677154541\n",
      "Full Loss: tensor([6.1265], device='cuda:0', grad_fn=<AddBackward0>)\n",
      "\n",
      "---\n"
     ]
    }
   ],
   "source": [
    "optimizer.step(100)"
   ]
  },
  {
   "cell_type": "code",
   "execution_count": 16,
   "id": "20522b51",
   "metadata": {},
   "outputs": [
    {
     "data": {
      "text/plain": [
       "tensor([   -inf,    -inf,    -inf,    -inf,    -inf, -4.1281, -4.0444, 12.0845,\n",
       "         5.8196, -4.1159, -4.0830, -1.9722, -4.0156, -4.0865, -4.0878, -4.0759,\n",
       "        -4.1504, -4.0485, -4.0195, -4.0683, -4.1643, -4.0628, -4.0996, -4.0658,\n",
       "        -4.1590], device='cuda:0', grad_fn=<SelectBackward0>)"
      ]
     },
     "execution_count": 16,
     "metadata": {},
     "output_type": "execute_result"
    }
   ],
   "source": [
    "optimizer.generator.logits[0][1]"
   ]
  },
  {
   "cell_type": "code",
   "execution_count": 17,
   "id": "d9a07ec4-160c-427f-9ad1-1e9437b04d84",
   "metadata": {},
   "outputs": [
    {
     "name": "stdout",
     "output_type": "stream",
     "text": [
      "FVbinder(\n",
      "vh='DVQLQESGPSLVKPSHSLSLTCSVTGYSITSGYHWNWIRQFPGNKLEWMGYHNNDGLNNYNPSLKNRISITRDTSKNQFFLRFHSVTTEDTATYFCTHYGYDGAWFTYWGQGTLVTVSA',\n",
      "vl='DIHMTQSPASQSASLGERVTITCLASQTIGTWLAWYHQKPGKAPNLLIYAATSLADGVPSRFSGSGSGTNFSFNISSLQAEDFVSYYCQQLYSTPYTFGNGTKLEIK'\n",
      ")\n"
     ]
    }
   ],
   "source": [
    "print(optimizer.best_valid_binder)"
   ]
  },
  {
   "cell_type": "code",
   "execution_count": 20,
   "id": "d1c17560",
   "metadata": {},
   "outputs": [
    {
     "data": {
      "text/plain": [
       "EVKLQESGPSLVKPSQSLSLTCSVTGYSITSGYSWNWIRQFPGNKLEWMGYVNNDGLNNYNPSLKNRISITRDTSQNQFFLRFDSLTTEDTATYFCTLYGYDGAWFTYWGQGTLVTVSA\n",
       "+|+||||||||||||.|||||||||||||||||.|||||||||||||||||.|||||||||||||||||||||||+|||||||.|+|||||||||||.|||||||||||||||||||||\n",
       "DVQLQESGPSLVKPSHSLSLTCSVTGYSITSGYHWNWIRQFPGNKLEWMGYHNNDGLNNYNPSLKNRISITRDTSKNQFFLRFHSVTTEDTATYFCTHYGYDGAWFTYWGQGTLVTVSA\n",
       "+||||||||.|||||.+|||||+|+||||||||.||||||.||||||||||.|||||||||||||+||+||||||||||.|+|.|||..|||.||||.||||||||||||||||||||+\n",
       "EVQLQESGPGLVKPSETLSLTCAVSGYSITSGYSWNWIRQPPGNKLEWMGYVNNDGLNNYNPSLKSRITITRDTSKNQFSLKFSSVTAADTAVYFCTLYGYDGAWFTYWGQGTLVTVSS\n",
       "                         ^^^^^^^^                   ^^^^^                                         ^^^^^^^^^^           "
      ]
     },
     "execution_count": 20,
     "metadata": {},
     "output_type": "execute_result"
    }
   ],
   "source": [
    "target.vh.align(optimizer.best_valid_binder.vh, humanized.vh)"
   ]
  },
  {
   "cell_type": "code",
   "execution_count": 21,
   "id": "e9af7c88",
   "metadata": {},
   "outputs": [
    {
     "data": {
      "text/plain": [
       "DIVLTQSPASQSASLGESVTITCLASQTIGTWLAWYQQKPGKSPQLLIYAATSLADGVPSRFSGSGSGTKFSFKISSLQAEDFVSYYCQQLYSTPYTFGGGTKLEIK\n",
       "||.+|||||||||||||.||||||||||||||||||.|||||+|.||||||||||||||||||||||||.|||.|||||||||||||||||||||||||.|||||||\n",
       "DIHMTQSPASQSASLGERVTITCLASQTIGTWLAWYHQKPGKAPNLLIYAATSLADGVPSRFSGSGSGTNFSFNISSLQAEDFVSYYCQQLYSTPYTFGNGTKLEIK\n",
       "||.+||||+|.|||+|+|||||||||||||||||||.|||||+|.||||||||||||||||||||||||.|+..|||||.|||.+||||||||||||||.|||+|||\n",
       "DIVLTQSPSSLSASVGDRVTITCLASQTIGTWLAWYQQKPGKSPQLLIYAATSLADGVPSRFSGSGSGTKFTLTISSLQPEDFATYYCQQLYSTPYTFGGGTKVEIK\n",
       "                       ^^^^^^^^^^^               ^^^^^^^                                ^^^^^^^^^          "
      ]
     },
     "execution_count": 21,
     "metadata": {},
     "output_type": "execute_result"
    }
   ],
   "source": [
    "target.vl.align(optimizer.best_valid_binder.vl, humanized.vl)"
   ]
  },
  {
   "cell_type": "code",
   "execution_count": null,
   "id": "2e1ae727",
   "metadata": {},
   "outputs": [],
   "source": [
    "humanized.vh.align(optimizer.best_valid_binder.vh)"
   ]
  },
  {
   "cell_type": "code",
   "execution_count": 18,
   "id": "437673a1-743e-4f56-bd47-42eb40470893",
   "metadata": {},
   "outputs": [
    {
     "data": {
      "text/plain": [
       "EVQLQESGPGLVKPSETLSLTCAVSGYSITSGYSWNWIRQPPGNKLEWMGYVNNDGLNNYNPSLKSRITITRDTSKNQFSLKFSSVTAADTAVYFCTLYGYDGAWFTYWGQGTLVTVSS\n",
       "+||||||||.|||||.+|||||+|+||||||||.||||||.||||||||||.|||||||||||||+||+||||||||||.|+|.|||..|||.||||.||||||||||||||||||||+\n",
       "DVQLQESGPSLVKPSHSLSLTCSVTGYSITSGYHWNWIRQFPGNKLEWMGYHNNDGLNNYNPSLKNRISITRDTSKNQFFLRFHSVTTEDTATYFCTHYGYDGAWFTYWGQGTLVTVSA\n",
       "                         ^^^^^^^^                   ^^^^^                                         ^^^^^^^^^^           "
      ]
     },
     "execution_count": 18,
     "metadata": {},
     "output_type": "execute_result"
    }
   ],
   "source": [
    "humanized.vh.align(optimizer.best_valid_binder.vh)"
   ]
  },
  {
   "cell_type": "code",
   "execution_count": 19,
   "id": "f33f0bbe",
   "metadata": {},
   "outputs": [
    {
     "data": {
      "text/plain": [
       "DIVLTQSPSSLSASVGDRVTITCLASQTIGTWLAWYQQKPGKSPQLLIYAATSLADGVPSRFSGSGSGTKFTLTISSLQPEDFATYYCQQLYSTPYTFGGGTKVEIK\n",
       "||.+||||+|.|||+|+|||||||||||||||||||.|||||+|.||||||||||||||||||||||||.|+..|||||.|||.+||||||||||||||.|||+|||\n",
       "DIHMTQSPASQSASLGERVTITCLASQTIGTWLAWYHQKPGKAPNLLIYAATSLADGVPSRFSGSGSGTNFSFNISSLQAEDFVSYYCQQLYSTPYTFGNGTKLEIK\n",
       "                       ^^^^^^^^^^^               ^^^^^^^                                ^^^^^^^^^          "
      ]
     },
     "execution_count": 19,
     "metadata": {},
     "output_type": "execute_result"
    }
   ],
   "source": [
    "humanized.vl.align(optimizer.best_valid_binder.vl)"
   ]
  },
  {
   "cell_type": "code",
   "execution_count": 10,
   "id": "7a595405",
   "metadata": {},
   "outputs": [],
   "source": [
    "from abnumber import Chain"
   ]
  },
  {
   "cell_type": "code",
   "execution_count": 11,
   "id": "94d809cd",
   "metadata": {},
   "outputs": [],
   "source": [
    "seq = \"ERKLQESGPSLMKPSQSLSLTCSVTGYSITSGYSWNWVRQFPGNGPEWMQNVNNDGLNNYNPSLKCRISITVITSLNQFFLRFDSLTTEDTATYECTDYGYDGAWFTYWGQGTLKACSK\""
   ]
  },
  {
   "cell_type": "code",
   "execution_count": 12,
   "id": "730b0ce0",
   "metadata": {},
   "outputs": [],
   "source": [
    "chain = Chain(seq, scheme=\"chothia\")"
   ]
  },
  {
   "cell_type": "code",
   "execution_count": 13,
   "id": "25be26de",
   "metadata": {},
   "outputs": [
    {
     "ename": "NameError",
     "evalue": "name 'a' is not defined",
     "output_type": "error",
     "traceback": [
      "\u001b[0;31m---------------------------------------------------------------------------\u001b[0m",
      "\u001b[0;31mNameError\u001b[0m                                 Traceback (most recent call last)",
      "Cell \u001b[0;32mIn[13], line 1\u001b[0m\n\u001b[0;32m----> 1\u001b[0m \u001b[43ma\u001b[49m\u001b[38;5;241m.\u001b[39mv_gene\n",
      "\u001b[0;31mNameError\u001b[0m: name 'a' is not defined"
     ]
    }
   ],
   "source": [
    "a.v_gene"
   ]
  },
  {
   "cell_type": "code",
   "execution_count": null,
   "id": "a46d25c6",
   "metadata": {},
   "outputs": [],
   "source": [
    "optimizer.best_valid_binder.vh.renumber(\"imgt\").find_human_germlines"
   ]
  },
  {
   "cell_type": "code",
   "execution_count": null,
   "id": "a0b64929",
   "metadata": {},
   "outputs": [],
   "source": [
    "def v_gene_identity(sequence):\n",
    "    c = Chain(sequence, scheme=\"imgt\")\n",
    "    v_germline_chains, _ = c.find_human_germlines(limit=1)\n",
    "    top_v = v_germline_chains[0]\n",
    "\n",
    "    num_v_matches = sum(top_v.positions.get(pos) == aa for pos, aa in c)\n",
    "\n",
    "    v_identity = num_v_matches / len(top_v)\n",
    "    return v_identity"
   ]
  },
  {
   "cell_type": "code",
   "execution_count": null,
   "id": "48ebc79d",
   "metadata": {},
   "outputs": [
    {
     "data": {
      "text/plain": [
       "0.5773195876288659"
      ]
     },
     "execution_count": 37,
     "metadata": {},
     "output_type": "execute_result"
    }
   ],
   "source": [
    "v_gene_identity(optimizer.best_valid_binder.vh.seq)"
   ]
  },
  {
   "cell_type": "code",
   "execution_count": null,
   "id": "d7588f1d",
   "metadata": {},
   "outputs": [
    {
     "data": {
      "text/plain": [
       "0.49473684210526314"
      ]
     },
     "execution_count": 38,
     "metadata": {},
     "output_type": "execute_result"
    }
   ],
   "source": [
    "v_gene_identity(optimizer.best_valid_binder.vl.seq)"
   ]
  },
  {
   "cell_type": "code",
   "execution_count": null,
   "id": "e2ab4585",
   "metadata": {},
   "outputs": [],
   "source": [
    "chain = Chain(seq, 'imgt')\n",
    "\n",
    "v_germline_chains, j_germline_chains = chain.find_human_germlines(limit=1)\n",
    "top_v, top_j = v_germline_chains[0], j_germline_chains[0]\n",
    "\n",
    "num_v_matches = sum(top_v.positions.get(pos) == aa for pos, aa in chain)\n",
    "num_j_matches = sum(top_j.positions.get(pos) == aa for pos, aa in chain)\n",
    "\n",
    "v_identity = num_v_matches / len(top_v)\n",
    "j_identity = num_j_matches / len(top_j)\n",
    "full_identity = (num_v_matches + num_j_matches) / len(chain)"
   ]
  },
  {
   "cell_type": "code",
   "execution_count": null,
   "id": "6b69105b",
   "metadata": {},
   "outputs": [
    {
     "data": {
      "text/plain": [
       "0.5773195876288659"
      ]
     },
     "execution_count": 33,
     "metadata": {},
     "output_type": "execute_result"
    }
   ],
   "source": [
    "v_identity"
   ]
  },
  {
   "cell_type": "code",
   "execution_count": null,
   "id": "c9f159b2",
   "metadata": {},
   "outputs": [],
   "source": []
  }
 ],
 "metadata": {
  "kernelspec": {
   "display_name": "Python 3 (ipykernel)",
   "language": "python",
   "name": "python3"
  },
  "language_info": {
   "codemirror_mode": {
    "name": "ipython",
    "version": 3
   },
   "file_extension": ".py",
   "mimetype": "text/x-python",
   "name": "python",
   "nbconvert_exporter": "python",
   "pygments_lexer": "ipython3",
   "version": "3.12.2"
  }
 },
 "nbformat": 4,
 "nbformat_minor": 5
}
